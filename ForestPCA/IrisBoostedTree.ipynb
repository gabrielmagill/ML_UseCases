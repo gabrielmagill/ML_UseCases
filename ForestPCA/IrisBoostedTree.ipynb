{
 "cells": [
  {
   "cell_type": "markdown",
   "metadata": {},
   "source": [
    "This notebook shows how to apply PCA and XGB Boosted Forest Classifers to a multiclass classification problem. \n",
    "In addition, we compute various performance metrics on the fitted model, applied to both training and testing dataset. "
   ]
  },
  {
   "cell_type": "code",
   "execution_count": 1,
   "metadata": {},
   "outputs": [],
   "source": [
    "import xgboost as xgb\n",
    "from xgboost import XGBClassifier\n",
    "\n",
    "from sklearn import metrics\n",
    "from sklearn.datasets import load_iris\n",
    "from sklearn.metrics import confusion_matrix, accuracy_score\n",
    "from sklearn.model_selection import train_test_split\n",
    "from sklearn.model_selection import cross_val_score, KFold\n",
    "from sklearn.decomposition import PCA\n",
    "from sklearn.preprocessing import StandardScaler\n",
    "from statsmodels.stats.outliers_influence import variance_inflation_factor\n",
    "from statsmodels.tools.tools import add_constant\n",
    "\n",
    "import numpy as np\n",
    "import pandas as pd\n",
    "import matplotlib as mpl\n",
    "from matplotlib import pyplot as plt"
   ]
  },
  {
   "cell_type": "code",
   "execution_count": 2,
   "metadata": {},
   "outputs": [],
   "source": [
    "class classifier_statistics:\n",
    "    \n",
    "    # cm_{ij}: group i is true label, group j is predicted label (opposite of wiki) \n",
    "    \n",
    "    def __init__(self):\n",
    "        self.data=[]\n",
    "    \n",
    "    def compute_stats(self,cm,title):\n",
    "        df = pd.DataFrame([\n",
    "        ['Avg Precision', self.precision(cm,'avg')],\n",
    "        ['Avg Recall',    self.recall(cm,'avg')],\n",
    "        ['Accuracy',      self.accuracy(cm)],\n",
    "        ['Avg F1',        self.F1(cm)]],\n",
    "            columns=['Statistic',title])\n",
    "        return df\n",
    "    \n",
    "    def precision(self,cm,method='array'):\n",
    "        n = len(cm)\n",
    "        out = np.zeros(n)\n",
    "        for i in range(n):\n",
    "            b = np.sum(cm[:,i])\n",
    "            if(b==0.):\n",
    "                out[i] = 1.\n",
    "            else:\n",
    "                out[i] = cm[i][i]/b\n",
    "\n",
    "        if(method=='avg'):\n",
    "            out = np.mean(out)\n",
    "        return out\n",
    "\n",
    "\n",
    "    def recall(self,cm,method='array'):\n",
    "        n = len(cm)\n",
    "        out = np.zeros(n)\n",
    "        for i in range(n):\n",
    "            b = np.sum(cm[i,:])\n",
    "            if(b==0.):\n",
    "                out[i] = 1.\n",
    "            else:\n",
    "                out[i] = cm[i][i]/b\n",
    "        if(method=='avg'):\n",
    "            out = np.mean(out)\n",
    "        return out\n",
    "\n",
    "    def accuracy(self,cm):\n",
    "        n = len(cm)\n",
    "        num = np.sum([cm[i][i] for i in range(n)])\n",
    "        denom = np.sum(cm)\n",
    "        return (num/denom)\n",
    "\n",
    "\n",
    "    def F1(self,cm):\n",
    "        prec = self.precision(cm,'avg')\n",
    "        rec = self.recall(cm,'avg')\n",
    "        out = 2*prec*rec/(prec+rec)\n",
    "        return out\n",
    "\n",
    "\n",
    "def prepare_data(xtrain,xtest,ncomponents):\n",
    "    mu = np.mean(xtrain,axis=0)\n",
    "    sigma = np.std(xtrain,axis=0,ddof=0)\n",
    "\n",
    "    xtrain = (xtrain-mu)/sigma # using biased variance\n",
    "    xtest = (xtest-mu)/sigma # using biased variance, use train data\n",
    "\n",
    "    pca = PCA(n_components=ncomponents) # PCA\n",
    "    xtrain = pca.fit_transform(xtrain)\n",
    "    xtest = pca.transform(xtest) # train data\n",
    "\n",
    "    return xtrain,xtest,pca\n",
    "\n",
    "\n",
    "def visualize(df_pc,names,title_name):\n",
    "    fig,ax = plt.subplots(1,1)\n",
    "    for i in range(len(target_names)):\n",
    "        df = df_pc[df_pc['targets']==i]\n",
    "        ax.scatter(df['PC1'],df['PC2'],label=target_names[i])\n",
    "    ax.set_xlabel('PC1')\n",
    "    ax.set_ylabel('PC2')\n",
    "    ax.set_title(title_name+' set PCA Decomposition Iris Dataset')\n",
    "    ax.legend()\n",
    "    return fig,ax\n",
    "\n",
    "def multicollinearity_statistics(x_dat,cols):\n",
    "    df_fullData = pd.DataFrame(x_dat,columns=cols)\n",
    "    display(df_fullData.corr())\n",
    "\n",
    "    df_fullData['const'] = 1.0\n",
    "    s = pd.Series([variance_inflation_factor(df_fullData.values, i) for i in range(df_fullData.shape[1])], index=df_fullData.columns,name='VIF Index')\n",
    "    display(s)\n",
    "    return None\n",
    "\n",
    "class XGB_Wrapper:\n",
    "    def __init__(self,xtrain,ytrain,xtest,ytest):\n",
    "        self.data={}\n",
    "        self.cm = {}        \n",
    "        self.data['train'] = [xtrain,ytrain]\n",
    "        self.data['test'] = [xtest,ytest]\n",
    "\n",
    "    def fit(self,param):\n",
    "        self.xgbc = xgb.XGBClassifier(**param)\n",
    "        self.xgbc.fit(self.data['train'][0], self.data['train'][1])\n",
    "        return None\n",
    "    \n",
    "    def feature_importances(self):\n",
    "        return self.xgbc.feature_importances_\n",
    "    \n",
    "    def set_cm(self,which):\n",
    "        self.y_proba = self.xgbc.predict_proba(self.data[which][0])\n",
    "        self.y_pred = self.xgbc.predict(self.data[which][0])\n",
    "        self.cm[which] = confusion_matrix(self.data[which][1],self.y_pred)\n",
    "        return None\n",
    "    \n",
    "    def set_statistics(self):\n",
    "        self.set_cm('train')\n",
    "        self.set_cm('test')\n",
    "\n",
    "        mc_stats = classifier_statistics()\n",
    "        df_train = mc_stats.compute_stats(self.cm['train'],'train')\n",
    "        df_test = mc_stats.compute_stats(self.cm['test'],'test')\n",
    "        df = df_train.merge(df_test,how='inner')        \n",
    "        return df\n",
    "\n",
    "    def roc(self):\n",
    "        tpr = {}\n",
    "        fpr = {} \n",
    "        thresh = {}\n",
    "        auc = {}\n",
    "        n_class = len(self.cm['test'])\n",
    "\n",
    "        for i in range(n_class):\n",
    "            fpr[i], tpr[i], thresh[i] =  metrics.roc_curve(self.data['test'][1], self.y_proba[:,i], pos_label=i)\n",
    "            auc[i] = round(metrics.auc(fpr[i], tpr[i]),2)\n",
    "        return fpr,auc,tpr\n",
    "\n",
    "def xgb_kfold(model,nsplit,param):\n",
    "    \n",
    "    if(nsplit==-1):\n",
    "        df = model.set_statistics()\n",
    "        return df\n",
    "    \n",
    "    xtrain = model.data['train'][0]\n",
    "    ytrain = model.data['train'][1]\n",
    "        \n",
    "    kfold = KFold(n_splits=nsplit, shuffle=False)\n",
    "    df_stats = pd.DataFrame(columns=['Statistic','train','test'])\n",
    "\n",
    "    for train_index, test_index in kfold.split(xtrain):\n",
    "        X_train, X_test = xtrain[train_index], xtrain[test_index]\n",
    "        Y_train, Y_test = ytrain[train_index], ytrain[test_index]\n",
    "        \n",
    "        xgb_wrap = XGB_Wrapper(X_train,Y_train,X_test,Y_test)\n",
    "        xgb_wrap.fit(param)\n",
    "        df = xgb_wrap.set_statistics()\n",
    "        \n",
    "        df_stats = df_stats.append(df)\n",
    "    \n",
    "    df_stats = df_stats.groupby('Statistic').agg({'train':'mean','test':'mean'})\n",
    "    return df_stats\n"
   ]
  },
  {
   "cell_type": "code",
   "execution_count": 3,
   "metadata": {},
   "outputs": [
    {
     "data": {
      "text/html": [
       "<div>\n",
       "<style scoped>\n",
       "    .dataframe tbody tr th:only-of-type {\n",
       "        vertical-align: middle;\n",
       "    }\n",
       "\n",
       "    .dataframe tbody tr th {\n",
       "        vertical-align: top;\n",
       "    }\n",
       "\n",
       "    .dataframe thead th {\n",
       "        text-align: right;\n",
       "    }\n",
       "</style>\n",
       "<table border=\"1\" class=\"dataframe\">\n",
       "  <thead>\n",
       "    <tr style=\"text-align: right;\">\n",
       "      <th></th>\n",
       "      <th>sepal length (cm)</th>\n",
       "      <th>sepal width (cm)</th>\n",
       "      <th>petal length (cm)</th>\n",
       "      <th>petal width (cm)</th>\n",
       "    </tr>\n",
       "  </thead>\n",
       "  <tbody>\n",
       "    <tr>\n",
       "      <th>sepal length (cm)</th>\n",
       "      <td>1.000000</td>\n",
       "      <td>-0.069550</td>\n",
       "      <td>0.870781</td>\n",
       "      <td>0.819877</td>\n",
       "    </tr>\n",
       "    <tr>\n",
       "      <th>sepal width (cm)</th>\n",
       "      <td>-0.069550</td>\n",
       "      <td>1.000000</td>\n",
       "      <td>-0.398694</td>\n",
       "      <td>-0.349993</td>\n",
       "    </tr>\n",
       "    <tr>\n",
       "      <th>petal length (cm)</th>\n",
       "      <td>0.870781</td>\n",
       "      <td>-0.398694</td>\n",
       "      <td>1.000000</td>\n",
       "      <td>0.965208</td>\n",
       "    </tr>\n",
       "    <tr>\n",
       "      <th>petal width (cm)</th>\n",
       "      <td>0.819877</td>\n",
       "      <td>-0.349993</td>\n",
       "      <td>0.965208</td>\n",
       "      <td>1.000000</td>\n",
       "    </tr>\n",
       "  </tbody>\n",
       "</table>\n",
       "</div>"
      ],
      "text/plain": [
       "                   sepal length (cm)  sepal width (cm)  petal length (cm)  \\\n",
       "sepal length (cm)           1.000000         -0.069550           0.870781   \n",
       "sepal width (cm)           -0.069550          1.000000          -0.398694   \n",
       "petal length (cm)           0.870781         -0.398694           1.000000   \n",
       "petal width (cm)            0.819877         -0.349993           0.965208   \n",
       "\n",
       "                   petal width (cm)  \n",
       "sepal length (cm)          0.819877  \n",
       "sepal width (cm)          -0.349993  \n",
       "petal length (cm)          0.965208  \n",
       "petal width (cm)           1.000000  "
      ]
     },
     "metadata": {},
     "output_type": "display_data"
    },
    {
     "data": {
      "text/plain": [
       "sepal length (cm)      7.424038\n",
       "sepal width (cm)       2.123868\n",
       "petal length (cm)     31.703121\n",
       "petal width (cm)      16.648953\n",
       "const                119.487628\n",
       "Name: VIF Index, dtype: float64"
      ]
     },
     "metadata": {},
     "output_type": "display_data"
    }
   ],
   "source": [
    "# Load data, inspect dataset\n",
    "iris = load_iris()\n",
    "\n",
    "target_names = {}\n",
    "for i in range(len(iris.target_names)):\n",
    "    target_names[i] = iris.target_names[i]\n",
    "\n",
    "x, y = iris.data, iris.target\n",
    "xtrain_raw, xtest_raw, ytrain, ytest=train_test_split(x, y, test_size=0.3,random_state=5)\n",
    "\n",
    "multicollinearity_statistics(xtrain_raw,iris.feature_names)"
   ]
  },
  {
   "cell_type": "markdown",
   "metadata": {},
   "source": [
    "From the correlation matrix, we see that petal length and petal width are highly correlated with each other. \n",
    "From the VIF Index, we see that both petal length/width are above 10, which as a rule of thumb suggests multicollinearity. Let's do PCA."
   ]
  },
  {
   "cell_type": "code",
   "execution_count": 4,
   "metadata": {},
   "outputs": [
    {
     "data": {
      "text/html": [
       "<div>\n",
       "<style scoped>\n",
       "    .dataframe tbody tr th:only-of-type {\n",
       "        vertical-align: middle;\n",
       "    }\n",
       "\n",
       "    .dataframe tbody tr th {\n",
       "        vertical-align: top;\n",
       "    }\n",
       "\n",
       "    .dataframe thead th {\n",
       "        text-align: right;\n",
       "    }\n",
       "</style>\n",
       "<table border=\"1\" class=\"dataframe\">\n",
       "  <thead>\n",
       "    <tr style=\"text-align: right;\">\n",
       "      <th></th>\n",
       "      <th>PC1</th>\n",
       "      <th>PC2</th>\n",
       "    </tr>\n",
       "  </thead>\n",
       "  <tbody>\n",
       "    <tr>\n",
       "      <th>PC1</th>\n",
       "      <td>1.000000e+00</td>\n",
       "      <td>-2.501031e-16</td>\n",
       "    </tr>\n",
       "    <tr>\n",
       "      <th>PC2</th>\n",
       "      <td>-2.501031e-16</td>\n",
       "      <td>1.000000e+00</td>\n",
       "    </tr>\n",
       "  </tbody>\n",
       "</table>\n",
       "</div>"
      ],
      "text/plain": [
       "              PC1           PC2\n",
       "PC1  1.000000e+00 -2.501031e-16\n",
       "PC2 -2.501031e-16  1.000000e+00"
      ]
     },
     "metadata": {},
     "output_type": "display_data"
    },
    {
     "data": {
      "text/plain": [
       "PC1      1.0\n",
       "PC2      1.0\n",
       "const    1.0\n",
       "Name: VIF Index, dtype: float64"
      ]
     },
     "metadata": {},
     "output_type": "display_data"
    }
   ],
   "source": [
    "# Better!\n",
    "pca_columns = ['PC1','PC2']\n",
    "xtrain,xtest,pca = prepare_data(xtrain_raw,xtest_raw,len(pca_columns))\n",
    "multicollinearity_statistics(xtrain,pca_columns)"
   ]
  },
  {
   "cell_type": "code",
   "execution_count": 5,
   "metadata": {},
   "outputs": [
    {
     "name": "stdout",
     "output_type": "stream",
     "text": [
      "Explained variance: 0.96\n"
     ]
    },
    {
     "data": {
      "image/png": "[encoded data removed]",
      "text/plain": [
       "<Figure size 432x288 with 1 Axes>"
      ]
     },
     "metadata": {
      "needs_background": "light"
     },
     "output_type": "display_data"
    }
   ],
   "source": [
    "# Visualize\n",
    "df_train = pd.DataFrame(xtrain,columns=pca_columns)\n",
    "df_train['targets'] = ytrain\n",
    "df_test = pd.DataFrame(xtest,columns=pca_columns)\n",
    "df_test['targets'] = ytest\n",
    "print('Explained variance:',round(sum(pca.explained_variance_ratio_),len(pca_columns)))\n",
    "visualize(df_train,target_names,'Training')\n",
    "None"
   ]
  },
  {
   "cell_type": "code",
   "execution_count": 8,
   "metadata": {},
   "outputs": [
    {
     "data": {
      "text/plain": [
       "[[0.1, 2, 2, 0.928515407145569, 0.8751336310238764],\n",
       " [0.1, 2, 4, 0.928515407145569, 0.8751336310238764],\n",
       " [0.1, 3, 2, 0.9457389485864691, 0.8650375523799934],\n",
       " [0.1, 3, 4, 0.9504739384814791, 0.8424174898622325]]"
      ]
     },
     "execution_count": 8,
     "metadata": {},
     "output_type": "execute_result"
    }
   ],
   "source": [
    "# Search for best model\n",
    "learning_rates=np.linspace(0.1,1,1)\n",
    "max_depths = [2,3]\n",
    "ns_estimators = [2,4]\n",
    "\n",
    "# \n",
    "grid_search = []\n",
    "best_score=-1\n",
    "for lr in learning_rates:\n",
    "    for md in max_depths:\n",
    "        for ne in ns_estimators:\n",
    "            \n",
    "            param = {'learning_rate':lr,'subsample':1,'nthread':3,'max_depth':md,'n_estimators':ne,'objective':'multi:softmax','booster':'gbtree','num_class':3}\n",
    "            xgb_wrap = XGB_Wrapper(xtrain,ytrain,xtest,ytest)\n",
    "            xgb_wrap.fit(param)\n",
    "            out = xgb_kfold(xgb_wrap,5,param)\n",
    "            if(best_score<out.loc['Avg F1','test']):\n",
    "                best_param = param\n",
    "                best_score = out.loc['Avg F1','test']\n",
    "                \n",
    "            grid_search.append([lr,md,ne,out.loc['Avg F1','train'],out.loc['Avg F1','test']])\n",
    "sorted(grid_search, key=lambda x: x[-1],reverse=True)"
   ]
  },
  {
   "cell_type": "code",
   "execution_count": 9,
   "metadata": {},
   "outputs": [
    {
     "name": "stdout",
     "output_type": "stream",
     "text": [
      "Subtrain and subtest results\n"
     ]
    },
    {
     "data": {
      "text/html": [
       "<div>\n",
       "<style scoped>\n",
       "    .dataframe tbody tr th:only-of-type {\n",
       "        vertical-align: middle;\n",
       "    }\n",
       "\n",
       "    .dataframe tbody tr th {\n",
       "        vertical-align: top;\n",
       "    }\n",
       "\n",
       "    .dataframe thead th {\n",
       "        text-align: right;\n",
       "    }\n",
       "</style>\n",
       "<table border=\"1\" class=\"dataframe\">\n",
       "  <thead>\n",
       "    <tr style=\"text-align: right;\">\n",
       "      <th></th>\n",
       "      <th>train</th>\n",
       "      <th>test</th>\n",
       "    </tr>\n",
       "    <tr>\n",
       "      <th>Statistic</th>\n",
       "      <th></th>\n",
       "      <th></th>\n",
       "    </tr>\n",
       "  </thead>\n",
       "  <tbody>\n",
       "    <tr>\n",
       "      <th>Accuracy</th>\n",
       "      <td>0.923810</td>\n",
       "      <td>0.876190</td>\n",
       "    </tr>\n",
       "    <tr>\n",
       "      <th>Avg F1</th>\n",
       "      <td>0.928515</td>\n",
       "      <td>0.875134</td>\n",
       "    </tr>\n",
       "    <tr>\n",
       "      <th>Avg Precision</th>\n",
       "      <td>0.931142</td>\n",
       "      <td>0.901111</td>\n",
       "    </tr>\n",
       "    <tr>\n",
       "      <th>Avg Recall</th>\n",
       "      <td>0.925911</td>\n",
       "      <td>0.852989</td>\n",
       "    </tr>\n",
       "  </tbody>\n",
       "</table>\n",
       "</div>"
      ],
      "text/plain": [
       "                  train      test\n",
       "Statistic                        \n",
       "Accuracy       0.923810  0.876190\n",
       "Avg F1         0.928515  0.875134\n",
       "Avg Precision  0.931142  0.901111\n",
       "Avg Recall     0.925911  0.852989"
      ]
     },
     "metadata": {},
     "output_type": "display_data"
    },
    {
     "name": "stdout",
     "output_type": "stream",
     "text": [
      "Train and test results\n"
     ]
    },
    {
     "data": {
      "text/html": [
       "<div>\n",
       "<style scoped>\n",
       "    .dataframe tbody tr th:only-of-type {\n",
       "        vertical-align: middle;\n",
       "    }\n",
       "\n",
       "    .dataframe tbody tr th {\n",
       "        vertical-align: top;\n",
       "    }\n",
       "\n",
       "    .dataframe thead th {\n",
       "        text-align: right;\n",
       "    }\n",
       "</style>\n",
       "<table border=\"1\" class=\"dataframe\">\n",
       "  <thead>\n",
       "    <tr style=\"text-align: right;\">\n",
       "      <th></th>\n",
       "      <th>Statistic</th>\n",
       "      <th>train</th>\n",
       "      <th>test</th>\n",
       "    </tr>\n",
       "  </thead>\n",
       "  <tbody>\n",
       "    <tr>\n",
       "      <th>0</th>\n",
       "      <td>Avg Precision</td>\n",
       "      <td>0.935760</td>\n",
       "      <td>0.941176</td>\n",
       "    </tr>\n",
       "    <tr>\n",
       "      <th>1</th>\n",
       "      <td>Avg Recall</td>\n",
       "      <td>0.932462</td>\n",
       "      <td>0.937500</td>\n",
       "    </tr>\n",
       "    <tr>\n",
       "      <th>2</th>\n",
       "      <td>Accuracy</td>\n",
       "      <td>0.933333</td>\n",
       "      <td>0.933333</td>\n",
       "    </tr>\n",
       "    <tr>\n",
       "      <th>3</th>\n",
       "      <td>Avg F1</td>\n",
       "      <td>0.934108</td>\n",
       "      <td>0.939335</td>\n",
       "    </tr>\n",
       "  </tbody>\n",
       "</table>\n",
       "</div>"
      ],
      "text/plain": [
       "       Statistic     train      test\n",
       "0  Avg Precision  0.935760  0.941176\n",
       "1     Avg Recall  0.932462  0.937500\n",
       "2       Accuracy  0.933333  0.933333\n",
       "3         Avg F1  0.934108  0.939335"
      ]
     },
     "metadata": {},
     "output_type": "display_data"
    },
    {
     "data": {
      "text/plain": [
       "array([0.97095174, 0.02904825], dtype=float32)"
      ]
     },
     "execution_count": 9,
     "metadata": {},
     "output_type": "execute_result"
    }
   ],
   "source": [
    "# kFold Validation\n",
    "print('Subtrain and subtest results')\n",
    "display(xgb_kfold(xgb_wrap,5,best_param))\n",
    "\n",
    "\n",
    "# Test set results\n",
    "print('Train and test results')\n",
    "display(xgb_kfold(xgb_wrap,-1,best_param))\n",
    "\n",
    "xgb_wrap.feature_importances()"
   ]
  },
  {
   "cell_type": "code",
   "execution_count": 10,
   "metadata": {},
   "outputs": [
    {
     "data": {
      "image/png": "[encoded data removed]",
      "text/plain": [
       "<Figure size 432x288 with 1 Axes>"
      ]
     },
     "metadata": {
      "needs_background": "light"
     },
     "output_type": "display_data"
    }
   ],
   "source": [
    "# Plot Multiclass One versus All ROC curve on test set, calculate AUC\n",
    "xgb_wrap.set_statistics()\n",
    "fpr,auc,tpr = xgb_wrap.roc()\n",
    "\n",
    "fig,ax = plt.subplots(1,1)\n",
    "for i in range(3):\n",
    "    ax.plot(fpr[i],tpr[i],label='Class '+str(target_names[i])+' AUC:'+str(auc[i]))\n",
    "ax.legend()\n",
    "ax.set_title('ROC Curve Model')\n",
    "ax.grid()\n",
    "None"
   ]
  }
 ],
 "metadata": {
  "kernelspec": {
   "display_name": "Python 3",
   "language": "python",
   "name": "python3"
  },
  "language_info": {
   "codemirror_mode": {
    "name": "ipython",
    "version": 3
   },
   "file_extension": ".py",
   "mimetype": "text/x-python",
   "name": "python",
   "nbconvert_exporter": "python",
   "pygments_lexer": "ipython3",
   "version": "3.7.6"
  }
 },
 "nbformat": 4,
 "nbformat_minor": 4
}
