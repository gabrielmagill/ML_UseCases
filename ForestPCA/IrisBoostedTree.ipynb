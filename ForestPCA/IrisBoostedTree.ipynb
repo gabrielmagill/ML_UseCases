{
 "cells": [
  {
   "cell_type": "markdown",
   "metadata": {},
   "source": [
    "This notebook shows how to apply PCA and XGB Boosted Forest Classifers to a multiclass classification problem. \n",
    "In addition, we compute various performance metrics on the fitted model, applied to both training and testing dataset. "
   ]
  },
  {
   "cell_type": "code",
   "execution_count": 1,
   "metadata": {},
   "outputs": [],
   "source": [
    "import xgboost as xgb\n",
    "from xgboost import XGBClassifier\n",
    "\n",
    "from sklearn import metrics\n",
    "from sklearn.datasets import load_iris\n",
    "from sklearn.metrics import confusion_matrix, accuracy_score\n",
    "from sklearn.model_selection import train_test_split\n",
    "from sklearn.model_selection import cross_val_score, KFold\n",
    "from sklearn.decomposition import PCA\n",
    "from sklearn.preprocessing import StandardScaler\n",
    "\n",
    "import numpy as np\n",
    "import pandas as pd\n",
    "import matplotlib as mpl\n",
    "from matplotlib import pyplot as plt"
   ]
  },
  {
   "cell_type": "code",
   "execution_count": 2,
   "metadata": {},
   "outputs": [],
   "source": [
    "class classifier_statistics:\n",
    "    \n",
    "    # cm_{ij}: group i is true label, group j is predicted label (opposite of wiki) \n",
    "    \n",
    "    def __init__(self):\n",
    "        self.data=[]\n",
    "    \n",
    "    def precision(self,cm,method='array'):\n",
    "        n = len(cm)\n",
    "        out = np.zeros(n)\n",
    "        for i in range(n):\n",
    "            b = np.sum(cm[:,i])\n",
    "            if(b==0.):\n",
    "                out[i] = 1.\n",
    "            else:\n",
    "                out[i] = cm[i][i]/b\n",
    "\n",
    "        if(method=='avg'):\n",
    "            out = np.mean(out)\n",
    "        return out\n",
    "\n",
    "\n",
    "    def recall(self,cm,method='array'):\n",
    "        n = len(cm)\n",
    "        out = np.zeros(n)\n",
    "        for i in range(n):\n",
    "            b = np.sum(cm[i,:])\n",
    "            if(b==0.):\n",
    "                out[i] = 1.\n",
    "            else:\n",
    "                out[i] = cm[i][i]/b\n",
    "        if(method=='avg'):\n",
    "            out = np.mean(out)\n",
    "        return out\n",
    "\n",
    "    def accuracy(self,cm):\n",
    "        n = len(cm)\n",
    "        num = np.sum([cm[i][i] for i in range(n)])\n",
    "        denom = np.sum(cm)\n",
    "        return (num/denom)\n",
    "\n",
    "\n",
    "    def F1(self,cm):\n",
    "        prec = self.precision(cm,'avg')\n",
    "        rec = self.recall(cm,'avg')\n",
    "        out = 2*prec*rec/(prec+rec)\n",
    "        return out\n",
    "\n",
    "\n",
    "def prepare_data(xtrain,xtest,ncomponents):\n",
    "    mu = np.mean(xtrain,axis=0)\n",
    "    sigma = np.std(xtrain,axis=0,ddof=0)\n",
    "\n",
    "    xtrain = (xtrain-mu)/sigma # using biased variance\n",
    "    xtest = (xtest-mu)/sigma # using biased variance, use train data\n",
    "\n",
    "    pca = PCA(n_components=ncomponents) # PCA\n",
    "    xtrain = pca.fit_transform(xtrain)\n",
    "    xtest = pca.transform(xtest) # train data\n",
    "\n",
    "    return xtrain,xtest,pca\n",
    "\n",
    "\n",
    "def visualize(df_pc,names,title_name):\n",
    "    fig,ax = plt.subplots(1,1)\n",
    "    for i in range(len(target_names)):\n",
    "        df = df_pc[df_pc['targets']==i]\n",
    "        ax.scatter(df['PC1'],df['PC2'],label=target_names[i])\n",
    "    ax.set_xlabel('PC1')\n",
    "    ax.set_ylabel('PC2')\n",
    "    ax.set_title(title_name+' set PCA Decomposition Iris Dataset')\n",
    "    ax.legend()\n",
    "    return fig,ax"
   ]
  },
  {
   "cell_type": "code",
   "execution_count": 16,
   "metadata": {},
   "outputs": [
    {
     "name": "stdout",
     "output_type": "stream",
     "text": [
      "Explained variance: 0.9611\n"
     ]
    }
   ],
   "source": [
    "# Load data & PCA\n",
    "iris = load_iris()\n",
    "\n",
    "target_names = {}\n",
    "for i in range(len(iris.target_names)):\n",
    "    target_names[i] = iris.target_names[i]\n",
    "\n",
    "x, y = iris.data, iris.target\n",
    "\n",
    "xtrain_raw, xtest_raw, ytrain, ytest=train_test_split(x, y, test_size=0.3,random_state=5)\n",
    "xtrain,xtest,pca = prepare_data(xtrain_raw,xtest_raw,2)\n",
    "\n",
    "df_train = pd.DataFrame(xtrain,columns=['PC1','PC2'])\n",
    "df_train['targets'] = ytrain\n",
    "df_test = pd.DataFrame(xtest,columns=['PC1','PC2'])\n",
    "df_test['targets'] = ytest\n",
    "\n",
    "print('Explained variance:',round(sum(pca.explained_variance_ratio_),4))"
   ]
  },
  {
   "cell_type": "code",
   "execution_count": 5,
   "metadata": {},
   "outputs": [
    {
     "data": {
      "image/png": "[encoded data removed]",
      "text/plain": [
       "<Figure size 432x288 with 1 Axes>"
      ]
     },
     "metadata": {
      "needs_background": "light"
     },
     "output_type": "display_data"
    }
   ],
   "source": [
    "visualize(df_train,target_names,'Training')\n",
    "None"
   ]
  },
  {
   "cell_type": "code",
   "execution_count": 6,
   "metadata": {},
   "outputs": [
    {
     "data": {
      "image/png": "[encoded data removed]",
      "text/plain": [
       "<Figure size 432x288 with 1 Axes>"
      ]
     },
     "metadata": {
      "needs_background": "light"
     },
     "output_type": "display_data"
    }
   ],
   "source": [
    "# nothing to see here\n",
    "visualize(df_test,target_names,'Test')\n",
    "None"
   ]
  },
  {
   "cell_type": "code",
   "execution_count": 13,
   "metadata": {},
   "outputs": [
    {
     "name": "stdout",
     "output_type": "stream",
     "text": [
      "[[15  0  0]\n",
      " [ 0 13  3]\n",
      " [ 0  0 14]]\n"
     ]
    },
    {
     "data": {
      "text/plain": [
       "array([0.9868976 , 0.01310242], dtype=float32)"
      ]
     },
     "execution_count": 13,
     "metadata": {},
     "output_type": "execute_result"
    }
   ],
   "source": [
    "# Fit Model\n",
    "param = {'max_depth':2,'n_estimators':2,'objective':'multi:softmax','booster':'gbtree','learning_rate':0.1}\n",
    "xgbc = xgb.XGBClassifier(**param)\n",
    "xgbc_temp = xgb.XGBClassifier(**param)\n",
    "\n",
    "xgbc.fit(xtrain, ytrain)\n",
    "\n",
    "ytrain_pred = xgbc.predict(xtrain)\n",
    "ytest_pred = xgbc.predict(xtest)\n",
    "ytest_proba = xgbc.predict_proba(xtest)\n",
    "cm_train = confusion_matrix(ytrain,ytrain_pred)    \n",
    "cm_test = confusion_matrix(ytest,ytest_pred)\n",
    "\n",
    "print(cm_test)\n",
    "xgbc.feature_importances_"
   ]
  },
  {
   "cell_type": "code",
   "execution_count": 14,
   "metadata": {},
   "outputs": [
    {
     "data": {
      "text/html": [
       "<div>\n",
       "<style scoped>\n",
       "    .dataframe tbody tr th:only-of-type {\n",
       "        vertical-align: middle;\n",
       "    }\n",
       "\n",
       "    .dataframe tbody tr th {\n",
       "        vertical-align: top;\n",
       "    }\n",
       "\n",
       "    .dataframe thead th {\n",
       "        text-align: right;\n",
       "    }\n",
       "</style>\n",
       "<table border=\"1\" class=\"dataframe\">\n",
       "  <thead>\n",
       "    <tr style=\"text-align: right;\">\n",
       "      <th></th>\n",
       "      <th>kfold_subtrain</th>\n",
       "      <th>kfold_subtest</th>\n",
       "      <th>Train</th>\n",
       "      <th>Test</th>\n",
       "    </tr>\n",
       "  </thead>\n",
       "  <tbody>\n",
       "    <tr>\n",
       "      <th>Accuracy</th>\n",
       "      <td>0.92</td>\n",
       "      <td>0.86</td>\n",
       "      <td>0.92</td>\n",
       "      <td>0.93</td>\n",
       "    </tr>\n",
       "    <tr>\n",
       "      <th>Avg F1</th>\n",
       "      <td>0.93</td>\n",
       "      <td>0.89</td>\n",
       "      <td>0.93</td>\n",
       "      <td>0.94</td>\n",
       "    </tr>\n",
       "    <tr>\n",
       "      <th>Avg Precision</th>\n",
       "      <td>0.93</td>\n",
       "      <td>0.89</td>\n",
       "      <td>0.93</td>\n",
       "      <td>0.94</td>\n",
       "    </tr>\n",
       "    <tr>\n",
       "      <th>Avg Recall</th>\n",
       "      <td>0.92</td>\n",
       "      <td>0.88</td>\n",
       "      <td>0.92</td>\n",
       "      <td>0.94</td>\n",
       "    </tr>\n",
       "    <tr>\n",
       "      <th>KFold Score</th>\n",
       "      <td>NaN</td>\n",
       "      <td>NaN</td>\n",
       "      <td>NaN</td>\n",
       "      <td>0.86</td>\n",
       "    </tr>\n",
       "  </tbody>\n",
       "</table>\n",
       "</div>"
      ],
      "text/plain": [
       "               kfold_subtrain  kfold_subtest  Train  Test\n",
       "Accuracy                 0.92           0.86   0.92  0.93\n",
       "Avg F1                   0.93           0.89   0.93  0.94\n",
       "Avg Precision            0.93           0.89   0.93  0.94\n",
       "Avg Recall               0.92           0.88   0.92  0.94\n",
       "KFold Score               NaN            NaN    NaN  0.86"
      ]
     },
     "execution_count": 14,
     "metadata": {},
     "output_type": "execute_result"
    }
   ],
   "source": [
    "# Ascertain quality of model:\n",
    "# Look at cross-validation metrics on subtrain and subtest(=validation) set\n",
    "# Look at metrics on full train and test(=holdout) set\n",
    "nsplits = 10\n",
    "mc_stats = classifier_statistics()    \n",
    "kfold = KFold(n_splits=nsplits, shuffle=True)\n",
    "kf_cv_scores = cross_val_score(xgbc, xtrain, ytrain, cv=kfold)\n",
    "\n",
    "\n",
    "df_stats = pd.DataFrame([\n",
    "    ['Avg Precision', mc_stats.precision(cm_train,'avg'),  mc_stats.precision(cm_test,'avg')],\n",
    "    ['Avg Recall',    mc_stats.recall(cm_train,'avg'),     mc_stats.recall(cm_test,'avg')],\n",
    "    ['Accuracy',      mc_stats.accuracy(cm_train),         mc_stats.accuracy(cm_test)],\n",
    "    ['Avg F1',        mc_stats.F1(cm_train),               mc_stats.F1(cm_test)],\n",
    "    ['KFold Score',   np.nan,                                  np.mean(kf_cv_scores)]],\n",
    "columns=['Statistic','Train','Test'])\n",
    "df_stats = df_stats.groupby('Statistic').agg({'Train':'mean','Test':'mean'})\n",
    "\n",
    "\n",
    "df_kfold_stats = pd.DataFrame(columns=['Statistic','kfold_subtrain','kfold_subtest'])\n",
    "for train_index, test_index in kfold.split(xtrain):\n",
    "    X_train, X_test = xtrain[train_index], xtrain[test_index]\n",
    "    Y_train, Y_test = ytrain[train_index], ytrain[test_index]\n",
    "\n",
    "    xgbc_temp.fit(X_train, Y_train)\n",
    "    \n",
    "    Y_train_pred = xgbc_temp.predict(X_train)\n",
    "    cm_kfold_train = confusion_matrix(Y_train,Y_train_pred)\n",
    "        \n",
    "    Y_test_pred = xgbc_temp.predict(X_test)\n",
    "    cm_kfold_test = confusion_matrix(Y_test,Y_test_pred)\n",
    "\n",
    "    df_kfold_stats_helper = pd.DataFrame([\n",
    "        ['Avg Precision', mc_stats.precision(cm_kfold_train,'avg'),  mc_stats.precision(cm_kfold_test,'avg')],\n",
    "        ['Avg Recall',    mc_stats.recall(cm_kfold_train,'avg'),     mc_stats.recall(cm_kfold_test,'avg')],\n",
    "        ['Accuracy',      mc_stats.accuracy(cm_kfold_train),         mc_stats.accuracy(cm_kfold_test)],\n",
    "        ['Avg F1',        mc_stats.F1(cm_kfold_train),               mc_stats.F1(cm_kfold_test)]],\n",
    "    columns=['Statistic','kfold_subtrain','kfold_subtest'])\n",
    "\n",
    "    df_kfold_stats = df_kfold_stats.append(df_kfold_stats_helper)    \n",
    "\n",
    "df_kfold_stats = df_kfold_stats.groupby('Statistic').agg({'kfold_subtrain':'mean','kfold_subtest':'mean'})\n",
    "df_stats_final = pd.concat([df_kfold_stats,df_stats],axis=1,sort=False)\n",
    "round(df_stats_final,2)\n",
    "\n",
    "# Training and test metrics are comparable, doesn't seem like overfitting"
   ]
  },
  {
   "cell_type": "code",
   "execution_count": 15,
   "metadata": {},
   "outputs": [
    {
     "data": {
      "image/png": "[encoded data removed]",
      "text/plain": [
       "<Figure size 432x288 with 1 Axes>"
      ]
     },
     "metadata": {
      "needs_background": "light"
     },
     "output_type": "display_data"
    }
   ],
   "source": [
    "# Plot Multiclass One versus All ROC curve on test set, calculate AUC\n",
    "tpr = {}\n",
    "fpr = {} \n",
    "thresh = {}\n",
    "auc = {}\n",
    "n_class = len(cm_test)\n",
    "\n",
    "for i in range(n_class):\n",
    "    fpr[i], tpr[i], thresh[i] =  metrics.roc_curve(ytest, ytest_proba[:,i], pos_label=i)\n",
    "    auc[i] = round(metrics.auc(fpr[i], tpr[i]),2)\n",
    "\n",
    "\n",
    "fig,ax = plt.subplots(1,1)\n",
    "for i in range(n_class):\n",
    "    ax.plot(fpr[i],tpr[i],label='Class '+str(target_names[i])+' AUC:'+str(auc[i]))\n",
    "ax.legend()\n",
    "ax.set_title('ROC Curve Model')\n",
    "ax.grid()\n",
    "None"
   ]
  }
 ],
 "metadata": {
  "kernelspec": {
   "display_name": "Python 3",
   "language": "python",
   "name": "python3"
  },
  "language_info": {
   "codemirror_mode": {
    "name": "ipython",
    "version": 3
   },
   "file_extension": ".py",
   "mimetype": "text/x-python",
   "name": "python",
   "nbconvert_exporter": "python",
   "pygments_lexer": "ipython3",
   "version": "3.7.6"
  }
 },
 "nbformat": 4,
 "nbformat_minor": 4
}
