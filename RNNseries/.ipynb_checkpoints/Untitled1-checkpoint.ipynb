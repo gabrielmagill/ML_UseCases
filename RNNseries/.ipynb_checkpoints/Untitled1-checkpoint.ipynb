{
 "cells": [
  {
   "cell_type": "code",
   "execution_count": 66,
   "metadata": {},
   "outputs": [],
   "source": [
    "import requests\n",
    "from bs4 import BeautifulSoup\n",
    "\n",
    "import smtplib\n",
    "from email.mime.multipart import MIMEMultipart\n",
    "from email.mime.text import MIMEText"
   ]
  },
  {
   "cell_type": "code",
   "execution_count": 139,
   "metadata": {},
   "outputs": [],
   "source": [
    "title_keyword=['UPDATE: APRIL 21, 2020']\n",
    "mtime_keyword=['2020-04-21T20:21:20+00:00']\n",
    "body_keyword=['UPDATE: APRIL 21, 2020','Shouldice Hospital and Clinic are closed until further notice']\n",
    "URL = 'https://www.shouldice.com/coronavirus-update/'\n",
    "\n"
   ]
  },
  {
   "cell_type": "code",
   "execution_count": 147,
   "metadata": {},
   "outputs": [],
   "source": [
    "def contains_keywords(keywords,text):\n",
    "    flag=True\n",
    "    for a in keywords:\n",
    "        if a not in text:\n",
    "            flag=False\n",
    "            \n",
    "    return(flag)\n",
    "\n",
    "def send_email():\n",
    "    mail_content = 'Shouldice (Tel: 905-889-1125) website updated with the following:'\n",
    "sender_address = 'gabriel.magill@gmail.com'\n",
    "sender_pass = 'HoulaWhereAreLoo288-'\n",
    "receiver_address = ', '.join(['natacha.altmno@gmail.com'])\n",
    "message = MIMEMultipart()\n",
    "message['From'] = sender_address\n",
    "message['To'] = receiver_address\n",
    "message['Subject'] = 'Shouldice website updated'   #The subject line\n",
    "message.attach(MIMEText(mail_content, 'plain'))\n",
    "session = smtplib.SMTP('smtp.gmail.com', 587)\n",
    "session.starttls()\n",
    "session.login(sender_address, sender_pass)\n",
    "text = message.as_string()\n",
    "session.sendmail(sender_address, receiver_address, text)\n",
    "session.quit()\n",
    "print('Mail Sent')\n",
    "return None"
   ]
  },
  {
   "cell_type": "code",
   "execution_count": null,
   "metadata": {},
   "outputs": [],
   "source": [
    "page = requests.get(URL)\n",
    "soup = BeautifulSoup(page.content, 'html.parser')"
   ]
  },
  {
   "cell_type": "code",
   "execution_count": 148,
   "metadata": {},
   "outputs": [
    {
     "name": "stdout",
     "output_type": "stream",
     "text": [
      "True True True\n"
     ]
    }
   ],
   "source": [
    "title=soup.find('meta',property='og:description')['content']\n",
    "title_flag=contains_keywords(title_keyword,title)\n",
    "\n",
    "mtime=soup.find('meta',property='article:modified_time')['content']\n",
    "mtime_flag = contains_keywords(mtime_keyword,mtime)\n",
    "\n",
    "body=''\n",
    "for x in soup.find_all('p'):\n",
    "    body+=x.text+''\n",
    "body=body.replace('\\xa0','')\n",
    "body=body.replace('To increase the text size, press and hold down the command key on a Mac or the windows key on PC, then press the plus (+) key.To decrease the text size, press and hold down the command key on a Mac or the windows key on PC, then press the minus (-) key.','')\n",
    "body_flag=contains_keywords(body_keyword,body)\n",
    "\n",
    "print(mtime_flag,title_flag,body_flag)"
   ]
  },
  {
   "cell_type": "code",
   "execution_count": 149,
   "metadata": {},
   "outputs": [
    {
     "name": "stdout",
     "output_type": "stream",
     "text": [
      "dont send email\n"
     ]
    }
   ],
   "source": [
    "if(all([True,True])==True):\n",
    "    print('dont send email')"
   ]
  },
  {
   "cell_type": "code",
   "execution_count": 88,
   "metadata": {},
   "outputs": [
    {
     "name": "stdout",
     "output_type": "stream",
     "text": [
      "Mail Sent\n"
     ]
    }
   ],
   "source": []
  }
 ],
 "metadata": {
  "kernelspec": {
   "display_name": "Python 3",
   "language": "python",
   "name": "python3"
  },
  "language_info": {
   "codemirror_mode": {
    "name": "ipython",
    "version": 3
   },
   "file_extension": ".py",
   "mimetype": "text/x-python",
   "name": "python",
   "nbconvert_exporter": "python",
   "pygments_lexer": "ipython3",
   "version": "3.7.6"
  }
 },
 "nbformat": 4,
 "nbformat_minor": 4
}
