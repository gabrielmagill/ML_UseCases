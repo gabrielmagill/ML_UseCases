{
 "cells": [
  {
   "cell_type": "code",
   "execution_count": 13,
   "metadata": {},
   "outputs": [
    {
     "data": {
      "text/plain": [
       "[[(0, 0), (1, 0), (2, 0)],\n",
       " [(0, 1), (1, 1), (2, 1)],\n",
       " [(0, 2), (1, 2), (2, 2)],\n",
       " [(0, 3), (1, 3), (2, 3)]]"
      ]
     },
     "execution_count": 13,
     "metadata": {},
     "output_type": "execute_result"
    }
   ],
   "source": [
    "test=[[(i,j) for i in range(3)] for j in range(4)]\n",
    "test"
   ]
  },
  {
   "cell_type": "code",
   "execution_count": 14,
   "metadata": {},
   "outputs": [
    {
     "data": {
      "text/plain": [
       "[[(0, 3), (1, 3), (2, 3)],\n",
       " [(0, 2), (1, 2), (2, 2)],\n",
       " [(0, 1), (1, 1), (2, 1)],\n",
       " [(0, 0), (1, 0), (2, 0)]]"
      ]
     },
     "execution_count": 14,
     "metadata": {},
     "output_type": "execute_result"
    }
   ],
   "source": [
    "\n",
    "test[::-1]"
   ]
  },
  {
   "cell_type": "code",
   "execution_count": null,
   "metadata": {},
   "outputs": [],
   "source": [
    "\n",
    "\n",
    "class my_image:    \n",
    "\n",
    "    def __init__(self,nrows,ncols):\n",
    "        self.nrows=nrows\n",
    "        self.ncols=ncols\n",
    "        self.arr = [[0 for i in range(self.nrows)] for j in range(self.ncols)]\n",
    "    \n",
    "    def flip_horizontal(self):\n",
    "        arr_flipped = self.arr[::-1]\n",
    "        return(arr_flipped)\n",
    "\n",
    "    def flip_vertical(self):\n",
    "        arr_flipped=[]\n",
    "        for row in self.arr:\n",
    "            arr_flipped.append(row[::-1])\n",
    "        return(arr_flipped)\n",
    "        "
   ]
  }
 ],
 "metadata": {
  "kernelspec": {
   "display_name": "Python 3",
   "language": "python",
   "name": "python3"
  },
  "language_info": {
   "codemirror_mode": {
    "name": "ipython",
    "version": 3
   },
   "file_extension": ".py",
   "mimetype": "text/x-python",
   "name": "python",
   "nbconvert_exporter": "python",
   "pygments_lexer": "ipython3",
   "version": "3.7.6"
  }
 },
 "nbformat": 4,
 "nbformat_minor": 4
}
